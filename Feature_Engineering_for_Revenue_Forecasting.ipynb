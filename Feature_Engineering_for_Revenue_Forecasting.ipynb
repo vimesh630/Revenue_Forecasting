{
  "nbformat": 4,
  "nbformat_minor": 0,
  "metadata": {
    "colab": {
      "provenance": [],
      "authorship_tag": "ABX9TyOeGfrZ1JJoWHeGbs9q4CoB",
      "include_colab_link": true
    },
    "kernelspec": {
      "name": "python3",
      "display_name": "Python 3"
    },
    "language_info": {
      "name": "python"
    }
  },
  "cells": [
    {
      "cell_type": "markdown",
      "metadata": {
        "id": "view-in-github",
        "colab_type": "text"
      },
      "source": [
        "<a href=\"https://colab.research.google.com/github/vimesh630/Revenue_Forecasting/blob/main/Feature_Engineering_for_Revenue_Forecasting.ipynb\" target=\"_parent\"><img src=\"https://colab.research.google.com/assets/colab-badge.svg\" alt=\"Open In Colab\"/></a>"
      ]
    },
    {
      "cell_type": "markdown",
      "source": [
        "#1. Import Required Libraries"
      ],
      "metadata": {
        "id": "cZRV0prtjpSN"
      }
    },
    {
      "cell_type": "code",
      "source": [
        "import pandas as pd\n",
        "import numpy as np\n",
        "import os\n",
        "\n",
        "from google.colab import drive\n",
        "drive.mount('/content/drive/', force_remount=True)"
      ],
      "metadata": {
        "colab": {
          "base_uri": "https://localhost:8080/"
        },
        "id": "O1Lvcs-jjuKp",
        "outputId": "507d7b1b-4b07-4458-c16d-680924f68d4c"
      },
      "execution_count": 1,
      "outputs": [
        {
          "output_type": "stream",
          "name": "stdout",
          "text": [
            "Mounted at /content/drive/\n"
          ]
        }
      ]
    },
    {
      "cell_type": "markdown",
      "source": [
        "#2. Define File Paths"
      ],
      "metadata": {
        "id": "QGypwmDbjwC6"
      }
    },
    {
      "cell_type": "code",
      "source": [
        "input_path = \"/content/drive/MyDrive/VERGER/Revenue_Forecasting/preprocessed_forecast_data.csv\"\n",
        "output_dir = \"/content/drive/MyDrive/VERGER/Revenue_Forecasting\"\n",
        "os.makedirs(output_dir, exist_ok=True)"
      ],
      "metadata": {
        "id": "B99SkSwPjydT"
      },
      "execution_count": 2,
      "outputs": []
    },
    {
      "cell_type": "markdown",
      "source": [
        "#3. Load and Check the Dataset"
      ],
      "metadata": {
        "id": "zXL8Kwdej1dk"
      }
    },
    {
      "cell_type": "code",
      "source": [
        "df = pd.read_csv(input_path)\n",
        "\n",
        "# === Ensure sorting (Account → Year → Month_No) ===\n",
        "df = df.sort_values(by=['Account', 'Year', 'Month_No']).reset_index(drop=True)\n",
        "\n",
        "# === Feature engineering per account ===\n",
        "df_fe = df.copy()"
      ],
      "metadata": {
        "id": "8qs8QMMDj5Zi"
      },
      "execution_count": 3,
      "outputs": []
    },
    {
      "cell_type": "markdown",
      "source": [
        "#4. Feature Engineering"
      ],
      "metadata": {
        "id": "eV2cvXSBj8Dl"
      }
    },
    {
      "cell_type": "code",
      "source": [
        "# Lag features\n",
        "df_fe['lag_1m_revenue'] = df_fe.groupby('Account')['Forecast_Revenue'].shift(1)\n",
        "df_fe['lag_3m_revenue'] = df_fe.groupby('Account')['Forecast_Revenue'].shift(3)\n",
        "df_fe['lag_6m_revenue'] = df_fe.groupby('Account')['Forecast_Revenue'].shift(6)\n",
        "\n",
        "# Rolling averages\n",
        "df_fe['rolling_3m_avg_revenue'] = (\n",
        "    df_fe.groupby('Account')['Forecast_Revenue']\n",
        "    .shift(1)\n",
        "    .rolling(window=3)\n",
        "    .mean()\n",
        "    .reset_index(level=0, drop=True)\n",
        ")\n",
        "df_fe['rolling_6m_avg_revenue'] = (\n",
        "    df_fe.groupby('Account')['Forecast_Revenue']\n",
        "    .shift(1)\n",
        "    .rolling(window=6)\n",
        "    .mean()\n",
        "    .reset_index(level=0, drop=True)\n",
        ")\n",
        "\n",
        "# Revenue growth rate (month over month %)\n",
        "df_fe['revenue_growth_pct'] = df_fe.groupby('Account')['Forecast_Revenue'].pct_change(periods=1)\n",
        "\n",
        "# Cumulative revenue\n",
        "df_fe['cumulative_revenue'] = df_fe.groupby('Account')['Forecast_Revenue'].cumsum()"
      ],
      "metadata": {
        "id": "C78eKlRokGx7"
      },
      "execution_count": 4,
      "outputs": []
    },
    {
      "cell_type": "markdown",
      "source": [
        "#5. Split the Dataset"
      ],
      "metadata": {
        "id": "zD5DS9VrlTC9"
      }
    },
    {
      "cell_type": "code",
      "source": [
        "# Sort again to ensure chronological order\n",
        "df_fe = df_fe.sort_values(by=['Year', 'Month_No']).reset_index(drop=True)\n",
        "\n",
        "cutoff_index = int(len(df_fe) * 0.8)\n",
        "train_df = df_fe.iloc[:cutoff_index].copy()\n",
        "test_df = df_fe.iloc[cutoff_index:].copy()"
      ],
      "metadata": {
        "id": "WqmqVcIXlVzQ"
      },
      "execution_count": 6,
      "outputs": []
    },
    {
      "cell_type": "markdown",
      "source": [
        "#6. Save Files"
      ],
      "metadata": {
        "id": "oH65H3PckMew"
      }
    },
    {
      "cell_type": "code",
      "source": [
        "full_output_path = os.path.join(output_dir, \"full_feature_engineered_forecast_data.csv\")\n",
        "train_output_path = os.path.join(output_dir, \"train_feature_engineered_forecast_data.csv\")\n",
        "test_output_path = os.path.join(output_dir, \"test_feature_engineered_forecast_data.csv\")\n",
        "\n",
        "df_fe.to_csv(full_output_path, index=False)\n",
        "train_df.to_csv(train_output_path, index=False)\n",
        "test_df.to_csv(test_output_path, index=False)\n",
        "\n",
        "print(f\"✅ Feature engineering & time-based split complete!\")\n",
        "print(f\"Full dataset saved to: {full_output_path}\")\n",
        "print(f\"Train set shape: {train_df.shape}, saved to: {train_output_path}\")\n",
        "print(f\"Test set shape: {test_df.shape}, saved to: {test_output_path}\")"
      ],
      "metadata": {
        "id": "8-aDgKkCkN4z",
        "colab": {
          "base_uri": "https://localhost:8080/"
        },
        "outputId": "2de86c4e-9681-486e-8f55-262cb192e14a"
      },
      "execution_count": 7,
      "outputs": [
        {
          "output_type": "stream",
          "name": "stdout",
          "text": [
            "✅ Feature engineering & time-based split complete!\n",
            "Full dataset saved to: /content/drive/MyDrive/VERGER/Revenue_Forecasting/full_feature_engineered_forecast_data.csv\n",
            "Train set shape: (1042, 26), saved to: /content/drive/MyDrive/VERGER/Revenue_Forecasting/train_feature_engineered_forecast_data.csv\n",
            "Test set shape: (261, 26), saved to: /content/drive/MyDrive/VERGER/Revenue_Forecasting/test_feature_engineered_forecast_data.csv\n"
          ]
        }
      ]
    }
  ]
}