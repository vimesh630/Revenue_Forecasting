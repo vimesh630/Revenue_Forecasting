{
  "nbformat": 4,
  "nbformat_minor": 0,
  "metadata": {
    "colab": {
      "provenance": [],
      "authorship_tag": "ABX9TyPwB3Riu9Xmz8CVhuhsFgHx",
      "include_colab_link": true
    },
    "kernelspec": {
      "name": "python3",
      "display_name": "Python 3"
    },
    "language_info": {
      "name": "python"
    }
  },
  "cells": [
    {
      "cell_type": "markdown",
      "metadata": {
        "id": "view-in-github",
        "colab_type": "text"
      },
      "source": [
        "<a href=\"https://colab.research.google.com/github/vimesh630/Revenue_Forecasting/blob/main/Feature_Engineering_for_Revenue_Forecasting.ipynb\" target=\"_parent\"><img src=\"https://colab.research.google.com/assets/colab-badge.svg\" alt=\"Open In Colab\"/></a>"
      ]
    },
    {
      "cell_type": "markdown",
      "source": [
        "# Mount Google Drive"
      ],
      "metadata": {
        "id": "Y4YHZ8g7VRPn"
      }
    },
    {
      "cell_type": "code",
      "execution_count": null,
      "metadata": {
        "id": "PaUNjpccAxkS"
      },
      "outputs": [],
      "source": [
        "from google.colab import drive\n",
        "drive.mount('/content/drive')"
      ]
    },
    {
      "cell_type": "markdown",
      "source": [
        "#Import Required Libraries"
      ],
      "metadata": {
        "id": "E4BRR3nGVeB7"
      }
    },
    {
      "cell_type": "code",
      "source": [
        "import pandas as pd\n",
        "import numpy as np\n",
        "import os"
      ],
      "metadata": {
        "id": "2EC_LH76Vgab"
      },
      "execution_count": null,
      "outputs": []
    },
    {
      "cell_type": "markdown",
      "source": [
        "# Define File Paths"
      ],
      "metadata": {
        "id": "mlPYOE2KWf3l"
      }
    },
    {
      "cell_type": "code",
      "source": [
        "input_file_path = \"/content/drive/MyDrive/VERGER/Revenue_Forecasting/preprocessed_forecast_data.csv\"\n",
        "output_dir = \"/content/drive/MyDrive/VERGER/Revenue_Forecasting\"\n",
        "os.makedirs(output_dir, exist_ok=True)"
      ],
      "metadata": {
        "id": "MNlaQHYSWltK"
      },
      "execution_count": null,
      "outputs": []
    },
    {
      "cell_type": "markdown",
      "source": [
        "# Load Dataset"
      ],
      "metadata": {
        "id": "WTKGeDccWrT3"
      }
    },
    {
      "cell_type": "code",
      "source": [
        "df = pd.read_csv(input_file_path)\n",
        "df['date'] = pd.to_datetime(df['Year'].astype(str) + '-' + df['Month'].astype(str).str.zfill(2) + '-01')\n",
        "df.sort_values(by='date', inplace=True)"
      ],
      "metadata": {
        "id": "gktPWUYrWuc0"
      },
      "execution_count": null,
      "outputs": []
    },
    {
      "cell_type": "markdown",
      "source": [
        "# Feature Engineering Function"
      ],
      "metadata": {
        "id": "4lac7IlMXDRU"
      }
    },
    {
      "cell_type": "code",
      "source": [
        "def add_features(data):\n",
        "    data = data.copy()\n",
        "    group_cols = ['Account', 'Product', 'Type']\n",
        "    data.set_index('date', inplace=True)\n",
        "\n",
        "    for col in ['Forecast_Revenue', 'Forecast_Quantity']:\n",
        "        for window in [1, 2, 3]:\n",
        "            data[f'{col}_lag_{window}'] = data.groupby(group_cols)[col].shift(window)\n",
        "        for window in [3, 6]:\n",
        "            data[f'{col}_roll_mean_{window}'] = (\n",
        "                data.groupby(group_cols)[col].shift(1).rolling(window=window).mean().reset_index(0, drop=True)\n",
        "            )\n",
        "            data[f'{col}_roll_std_{window}'] = (\n",
        "                data.groupby(group_cols)[col].shift(1).rolling(window=window).std().reset_index(0, drop=True)\n",
        "            )\n",
        "\n",
        "    data.reset_index(inplace=True)\n",
        "    data['month'] = data['date'].dt.month\n",
        "    data['quarter'] = data['date'].dt.quarter\n",
        "    data['year'] = data['date'].dt.year\n",
        "    data = pd.get_dummies(data, columns=['Account', 'Product', 'Type'], drop_first=True)\n",
        "\n",
        "    return data"
      ],
      "metadata": {
        "id": "PulNFHy7XHhU"
      },
      "execution_count": null,
      "outputs": []
    }
  ]
}