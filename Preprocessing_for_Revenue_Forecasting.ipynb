{
  "nbformat": 4,
  "nbformat_minor": 0,
  "metadata": {
    "colab": {
      "provenance": [],
      "mount_file_id": "1J3ZB8FE05wgfcmj90gkguVQEjPwD1Woy",
      "authorship_tag": "ABX9TyPmxfkkTE6jnphYUgYX7iPm",
      "include_colab_link": true
    },
    "kernelspec": {
      "name": "python3",
      "display_name": "Python 3"
    },
    "language_info": {
      "name": "python"
    }
  },
  "cells": [
    {
      "cell_type": "markdown",
      "metadata": {
        "id": "view-in-github",
        "colab_type": "text"
      },
      "source": [
        "<a href=\"https://colab.research.google.com/github/vimesh630/Revenue_Forecasting/blob/main/Preprocessing_for_Revenue_Forecasting.ipynb\" target=\"_parent\"><img src=\"https://colab.research.google.com/assets/colab-badge.svg\" alt=\"Open In Colab\"/></a>"
      ]
    },
    {
      "cell_type": "markdown",
      "source": [
        "#1. Import Necessary Libraries and Mount Google Drive"
      ],
      "metadata": {
        "id": "CLnptXKhBGnk"
      }
    },
    {
      "cell_type": "code",
      "execution_count": 1,
      "metadata": {
        "id": "q_dBfpzJBBpZ",
        "colab": {
          "base_uri": "https://localhost:8080/"
        },
        "outputId": "3fa366d5-80c3-4058-c84b-c9ae0bd221ee"
      },
      "outputs": [
        {
          "output_type": "stream",
          "name": "stdout",
          "text": [
            "Mounted at /content/drive\n"
          ]
        }
      ],
      "source": [
        "import os\n",
        "import pandas as pd\n",
        "import numpy as np\n",
        "\n",
        "from google.colab import drive\n",
        "drive.mount('/content/drive')"
      ]
    },
    {
      "cell_type": "markdown",
      "source": [
        "#2. Define Paths"
      ],
      "metadata": {
        "id": "TDgE4hl3B-ck"
      }
    },
    {
      "cell_type": "code",
      "source": [
        "input_file_path=\"/content/drive/MyDrive/VERGER/Revenue_Forecasting/Forecasting_Dataset.csv\"\n",
        "output_dir=\"/content/drive/MyDrive/VERGER/Revenue_Forecasting\"\n",
        "os.makedirs(output_dir, exist_ok=True)"
      ],
      "metadata": {
        "id": "D6KIu0kqCGTy"
      },
      "execution_count": 2,
      "outputs": []
    },
    {
      "cell_type": "markdown",
      "source": [
        "#3. Load Data"
      ],
      "metadata": {
        "id": "K-ohN6xCECEr"
      }
    },
    {
      "cell_type": "code",
      "source": [
        "df=pd.read_csv(input_file_path)"
      ],
      "metadata": {
        "id": "UzPNJ3WyCjv0"
      },
      "execution_count": null,
      "outputs": []
    },
    {
      "cell_type": "markdown",
      "source": [],
      "metadata": {
        "id": "W2NxsEJoEIWe"
      }
    }
  ]
}