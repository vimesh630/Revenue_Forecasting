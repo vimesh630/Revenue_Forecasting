{
  "nbformat": 4,
  "nbformat_minor": 0,
  "metadata": {
    "colab": {
      "provenance": [],
      "mount_file_id": "1fw-cEd4T24F0n12Pw26eKzUJxRbYLQs7",
      "authorship_tag": "ABX9TyPOsrCLf+qRmGYDMBWR1qZp",
      "include_colab_link": true
    },
    "kernelspec": {
      "name": "python3",
      "display_name": "Python 3"
    },
    "language_info": {
      "name": "python"
    }
  },
  "cells": [
    {
      "cell_type": "markdown",
      "metadata": {
        "id": "view-in-github",
        "colab_type": "text"
      },
      "source": [
        "<a href=\"https://colab.research.google.com/github/vimesh630/Revenue_Forecasting/blob/main/Dataset_Preprocessing.ipynb\" target=\"_parent\"><img src=\"https://colab.research.google.com/assets/colab-badge.svg\" alt=\"Open In Colab\"/></a>"
      ]
    },
    {
      "cell_type": "markdown",
      "source": [
        "# Import Libraries"
      ],
      "metadata": {
        "id": "Vb8iIWUc51Gc"
      }
    },
    {
      "cell_type": "code",
      "source": [
        "import pandas as pd"
      ],
      "metadata": {
        "id": "1FdmxQmS54h4"
      },
      "execution_count": null,
      "outputs": []
    },
    {
      "cell_type": "markdown",
      "source": [
        "# Mount Google Drive"
      ],
      "metadata": {
        "id": "k-Tpbp0Y53DD"
      }
    },
    {
      "cell_type": "code",
      "source": [
        "from google.colab import drive\n",
        "drive.mount('/content/drive')"
      ],
      "metadata": {
        "colab": {
          "base_uri": "https://localhost:8080/"
        },
        "id": "3Lt8ZiV652uC",
        "outputId": "d010b7aa-8f83-442a-e569-7bdaa4e6a732"
      },
      "execution_count": null,
      "outputs": [
        {
          "output_type": "stream",
          "name": "stdout",
          "text": [
            "Drive already mounted at /content/drive; to attempt to forcibly remount, call drive.mount(\"/content/drive\", force_remount=True).\n"
          ]
        }
      ]
    },
    {
      "cell_type": "markdown",
      "source": [
        "# Define File Paths"
      ],
      "metadata": {
        "id": "yIgXY8hb6Q8k"
      }
    },
    {
      "cell_type": "code",
      "source": [
        "input_path = \"/content/drive/MyDrive/VERGER/Revenue_Forecasting/forecasting_data.csv\"\n",
        "output_path = \"/content/drive/MyDrive/VERGER/Revenue_Forecasting/forecasting_data_processed.csv\"\n",
        "\n",
        "df=pd.read_csv(input_path)\n",
        "\n",
        "df.columns=df.columns.str.strip()\n",
        "\n",
        "# Drop rows where Year or Month_No is missing\n",
        "df = df.dropna(subset=[\"Year\", \"Month_No\"])\n",
        "\n",
        "# Ensure Year and Month_No are integers\n",
        "df[\"Year\"] = df[\"Year\"].astype(int)\n",
        "df[\"Month_No\"] = df[\"Month_No\"].astype(int)"
      ],
      "metadata": {
        "id": "Dz_YDTsr6UVL"
      },
      "execution_count": null,
      "outputs": []
    },
    {
      "cell_type": "markdown",
      "source": [
        "# Create Peiod Column"
      ],
      "metadata": {
        "id": "DuZnRQZn6VeH"
      }
    },
    {
      "cell_type": "code",
      "source": [
        "df[\"Period\"] = pd.to_datetime(\n",
        "    df[\"Year\"].astype(str) + \"-\" + df[\"Month_No\"].astype(str).str.zfill(2)\n",
        ")"
      ],
      "metadata": {
        "id": "ZVC6GnKX6k1E"
      },
      "execution_count": null,
      "outputs": []
    },
    {
      "cell_type": "markdown",
      "source": [
        "# Sort the Data"
      ],
      "metadata": {
        "id": "8be2718h6n90"
      }
    },
    {
      "cell_type": "code",
      "source": [
        "df = df.sort_values([\"Account\", \"Product\", \"Period\"]).reset_index(drop=True)"
      ],
      "metadata": {
        "id": "jHJd0sfc6pxk"
      },
      "execution_count": null,
      "outputs": []
    },
    {
      "cell_type": "markdown",
      "source": [
        "# Create Lag Features"
      ],
      "metadata": {
        "id": "Udz03AfS6r5D"
      }
    },
    {
      "cell_type": "code",
      "source": [
        "lags = [1, 3, 6]  # you can adjust these\n",
        "for lag in lags:\n",
        "    df[f\"Revenue_Lag_{lag}\"] = df.groupby([\"Account\", \"Product\"])[\"Revenue\"].shift(lag)\n",
        "    df[f\"Quantity_Lag_{lag}\"] = df.groupby([\"Account\", \"Product\"])[\"Quantity\"].shift(lag)"
      ],
      "metadata": {
        "id": "rm3mjLWg6u6j"
      },
      "execution_count": null,
      "outputs": []
    },
    {
      "cell_type": "markdown",
      "source": [
        "# Create Rolling Features"
      ],
      "metadata": {
        "id": "qnIHfznc60Al"
      }
    },
    {
      "cell_type": "code",
      "source": [
        "windows = [3, 6]  # number of months\n",
        "for window in windows:\n",
        "    df[f\"Revenue_Rolling_{window}\"] = df.groupby([\"Account\", \"Product\"])[\"Revenue\"].transform(lambda x: x.rolling(window).mean())\n",
        "    df[f\"Quantity_Rolling_{window}\"] = df.groupby([\"Account\", \"Product\"])[\"Quantity\"].transform(lambda x: x.rolling(window).mean())"
      ],
      "metadata": {
        "id": "I849FU0O62zx"
      },
      "execution_count": null,
      "outputs": []
    },
    {
      "cell_type": "markdown",
      "source": [
        "# Save the File"
      ],
      "metadata": {
        "id": "vSW1YAEv64ZD"
      }
    },
    {
      "cell_type": "code",
      "source": [
        "df.to_csv(output_path, index=False)\n",
        "\n",
        "print(f\"✅ Processed dataset saved to: {output_path}\")\n",
        "print(df.head(10))"
      ],
      "metadata": {
        "colab": {
          "base_uri": "https://localhost:8080/"
        },
        "id": "c3RPhbMz66Cj",
        "outputId": "114a00c9-6e6d-48cc-9c43-3633e0e7e488"
      },
      "execution_count": null,
      "outputs": [
        {
          "output_type": "stream",
          "name": "stdout",
          "text": [
            "✅ Processed dataset saved to: /content/drive/MyDrive/VERGER/Revenue_Forecasting/forecasting_data_processed.csv\n",
            "   Year      Month  Month_No Quarter Account  \\\n",
            "0  2024  September         9      Q3    AEIN   \n",
            "1  2024       July         7      Q3    AEIN   \n",
            "2  2023     August         8      Q3    AEIN   \n",
            "3  2020    October        10      Q4    AFFR   \n",
            "4  2019     March          3      Q1    AGFR   \n",
            "5  2019        May         5      Q2    AGFR   \n",
            "6  2019       June         6      Q2    AGFR   \n",
            "7  2020   February         2      Q1    AGFR   \n",
            "8  2020      April         4      Q2    AGFR   \n",
            "9  2020    October        10      Q4    AGFR   \n",
            "\n",
            "                              Product          Type  Quantity  Unit_Price  \\\n",
            "0              Pepper Black Oleoresin  Conventional    8000.0        24.0   \n",
            "1        Pepper Black Oleoresin 40/20  Conventional    1200.0        27.0   \n",
            "2  Pepper Black Sri Lanka Oleo 40/20   Conventional     300.0       125.0   \n",
            "3                   CINNAMON LEAF OIL  Conventional       5.0        32.0   \n",
            "4                   CINNAMON BARK OIL  Conventional      25.0       240.0   \n",
            "5                   CINNAMON BARK OIL  Conventional      25.0       240.0   \n",
            "6                   CINNAMON BARK OIL  Conventional      50.0       240.0   \n",
            "7                   CINNAMON BARK OIL  Conventional      50.0       237.0   \n",
            "8                   CINNAMON BARK OIL  Conventional      50.0       240.0   \n",
            "9                   CINNAMON BARK OIL  Conventional      50.0       240.0   \n",
            "\n",
            "  Revenue  ... Revenue_Lag_1 Quantity_Lag_1  Revenue_Lag_3 Quantity_Lag_3  \\\n",
            "0  192000  ...           NaN            NaN            NaN            NaN   \n",
            "1   32400  ...           NaN            NaN            NaN            NaN   \n",
            "2   37500  ...           NaN            NaN            NaN            NaN   \n",
            "3     160  ...           NaN            NaN            NaN            NaN   \n",
            "4    6000  ...           NaN            NaN            NaN            NaN   \n",
            "5    6000  ...          6000           25.0            NaN            NaN   \n",
            "6   12000  ...          6000           25.0            NaN            NaN   \n",
            "7   11850  ...         12000           50.0           6000           25.0   \n",
            "8   12000  ...         11850           50.0           6000           25.0   \n",
            "9   12000  ...         12000           50.0          12000           50.0   \n",
            "\n",
            "   Revenue_Lag_6 Quantity_Lag_6  Revenue_Rolling_3  Quantity_Rolling_3  \\\n",
            "0            NaN            NaN                NaN                 NaN   \n",
            "1            NaN            NaN                NaN                 NaN   \n",
            "2            NaN            NaN                NaN                 NaN   \n",
            "3            NaN            NaN                NaN                 NaN   \n",
            "4            NaN            NaN                NaN                 NaN   \n",
            "5            NaN            NaN                NaN                 NaN   \n",
            "6            NaN            NaN             8000.0           33.333333   \n",
            "7            NaN            NaN             9950.0           41.666667   \n",
            "8            NaN            NaN            11950.0           50.000000   \n",
            "9            NaN            NaN            11950.0           50.000000   \n",
            "\n",
            "   Revenue_Rolling_6  Quantity_Rolling_6  \n",
            "0                NaN                 NaN  \n",
            "1                NaN                 NaN  \n",
            "2                NaN                 NaN  \n",
            "3                NaN                 NaN  \n",
            "4                NaN                 NaN  \n",
            "5                NaN                 NaN  \n",
            "6                NaN                 NaN  \n",
            "7                NaN                 NaN  \n",
            "8                NaN                 NaN  \n",
            "9             9975.0           41.666667  \n",
            "\n",
            "[10 rows x 21 columns]\n"
          ]
        }
      ]
    },
    {
      "cell_type": "code",
      "source": [],
      "metadata": {
        "id": "uns4iNrx9Zos"
      },
      "execution_count": null,
      "outputs": []
    }
  ]
}