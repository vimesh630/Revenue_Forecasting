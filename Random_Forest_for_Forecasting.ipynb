{
  "nbformat": 4,
  "nbformat_minor": 0,
  "metadata": {
    "colab": {
      "provenance": [],
      "authorship_tag": "ABX9TyOLJ3nw7vTSZpRhWW9X7P92",
      "include_colab_link": true
    },
    "kernelspec": {
      "name": "python3",
      "display_name": "Python 3"
    },
    "language_info": {
      "name": "python"
    }
  },
  "cells": [
    {
      "cell_type": "markdown",
      "metadata": {
        "id": "view-in-github",
        "colab_type": "text"
      },
      "source": [
        "<a href=\"https://colab.research.google.com/github/vimesh630/Revenue_Forecasting/blob/main/Random_Forest_for_Forecasting.ipynb\" target=\"_parent\"><img src=\"https://colab.research.google.com/assets/colab-badge.svg\" alt=\"Open In Colab\"/></a>"
      ]
    },
    {
      "cell_type": "markdown",
      "source": [
        "#1. Import Required Libraries"
      ],
      "metadata": {
        "id": "LyVbDJ2keYmp"
      }
    },
    {
      "cell_type": "code",
      "execution_count": 6,
      "metadata": {
        "id": "u1gHrfgDeECQ"
      },
      "outputs": [],
      "source": [
        "import pandas as pd\n",
        "from sklearn.ensemble import RandomForestRegressor\n",
        "from sklearn.metrics import mean_squared_error, mean_absolute_error\n",
        "from sklearn.preprocessing import OneHotEncoder\n",
        "from sklearn.compose import ColumnTransformer\n",
        "from sklearn.pipeline import Pipeline\n",
        "import numpy as np\n",
        "import matplotlib.pyplot as plt\n",
        "import seaborn as sns"
      ]
    },
    {
      "cell_type": "markdown",
      "source": [
        "#2. Mount Google Drive"
      ],
      "metadata": {
        "id": "iv_RQMypfAZJ"
      }
    },
    {
      "cell_type": "code",
      "source": [
        "from google.colab import drive\n",
        "drive.mount('/content/drive')"
      ],
      "metadata": {
        "colab": {
          "base_uri": "https://localhost:8080/"
        },
        "id": "Z__WbSy6fL-6",
        "outputId": "70734282-9ffa-4944-bb5d-ddf32eb91bd4"
      },
      "execution_count": 4,
      "outputs": [
        {
          "output_type": "stream",
          "name": "stdout",
          "text": [
            "Mounted at /content/drive\n"
          ]
        }
      ]
    },
    {
      "cell_type": "markdown",
      "source": [
        "#3. Load Training and Test Data"
      ],
      "metadata": {
        "id": "dC6GOH2wfR-g"
      }
    },
    {
      "cell_type": "code",
      "source": [
        "train_path='/content/drive/MyDrive/VERGER/Revenue_Forecasting/train_forecast_data.csv'\n",
        "test_path='/content/drive/MyDrive/VERGER/Revenue_Forecasting/test_forecast_data.csv'\n",
        "\n",
        "train_df = pd.read_csv(train_path)\n",
        "test_df = pd.read_csv(test_path)"
      ],
      "metadata": {
        "id": "e_SThH5wfV5l"
      },
      "execution_count": 10,
      "outputs": []
    },
    {
      "cell_type": "markdown",
      "source": [
        "#3. Select Features"
      ],
      "metadata": {
        "id": "igu7dUYrgUxM"
      }
    },
    {
      "cell_type": "code",
      "source": [
        "features=['Account', 'Product', 'Type', 'Lag_Qty_1', 'Lag_Qty_2', 'Lag_Rev_1', 'Lag_Rev_2',\n",
        "            'Rolling_Qty_3', 'Rolling_Rev_3']\n",
        "\n",
        "target_quantity='Forecast_Quantity'\n",
        "target_revenue='Forecast_Revenue'"
      ],
      "metadata": {
        "id": "4_WodPEgkXav"
      },
      "execution_count": 11,
      "outputs": []
    },
    {
      "cell_type": "markdown",
      "source": [
        "#4. Drop Rows with Missing Features"
      ],
      "metadata": {
        "id": "1pRVRQCsk8jL"
      }
    },
    {
      "cell_type": "code",
      "source": [
        "train_df = train_df.dropna(subset=features + [target_quantity, target_revenue])\n",
        "test_df = test_df.dropna(subset=features + [target_quantity, target_revenue])\n",
        "\n",
        "X_train = train_df[features]\n",
        "X_test = test_df[features]\n",
        "\n",
        "y_train_qty = train_df[target_quantity]\n",
        "y_test_qty = test_df[target_quantity]\n",
        "\n",
        "y_train_rev = train_df[target_revenue]\n",
        "y_test_rev = test_df[target_revenue]"
      ],
      "metadata": {
        "id": "dNHr081SlBrq"
      },
      "execution_count": 12,
      "outputs": []
    },
    {
      "cell_type": "markdown",
      "source": [
        "#5. Define Preprocessing for Categorical Columns"
      ],
      "metadata": {
        "id": "rE7Ts1PqlcRD"
      }
    },
    {
      "cell_type": "code",
      "source": [
        "categorical_features = ['Account', 'Product', 'Type']\n",
        "categorical_transformer = OneHotEncoder(handle_unknown='ignore')\n",
        "\n",
        "preprocessor = ColumnTransformer(\n",
        "    transformers=[\n",
        "        ('cat', categorical_transformer, categorical_features)\n",
        "    ],\n",
        "    remainder='passthrough'  # Keep numerical columns\n",
        ")"
      ],
      "metadata": {
        "id": "gp5ar2pFlkYt"
      },
      "execution_count": 13,
      "outputs": []
    }
  ]
}