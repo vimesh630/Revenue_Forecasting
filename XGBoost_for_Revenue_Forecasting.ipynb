{
  "nbformat": 4,
  "nbformat_minor": 0,
  "metadata": {
    "colab": {
      "provenance": [],
      "mount_file_id": "1XbofCLQt-3KHbO_wJt3d3dtml3Mv2FXL",
      "authorship_tag": "ABX9TyPyzFgE3K6+dYUU3nnUOMgU",
      "include_colab_link": true
    },
    "kernelspec": {
      "name": "python3",
      "display_name": "Python 3"
    },
    "language_info": {
      "name": "python"
    }
  },
  "cells": [
    {
      "cell_type": "markdown",
      "metadata": {
        "id": "view-in-github",
        "colab_type": "text"
      },
      "source": [
        "<a href=\"https://colab.research.google.com/github/vimesh630/Revenue_Forecasting/blob/main/XGBoost_for_Revenue_Forecasting.ipynb\" target=\"_parent\"><img src=\"https://colab.research.google.com/assets/colab-badge.svg\" alt=\"Open In Colab\"/></a>"
      ]
    },
    {
      "cell_type": "markdown",
      "source": [
        "#1. Import Necessary Libraries"
      ],
      "metadata": {
        "id": "tU5WESEF3g_Y"
      }
    },
    {
      "cell_type": "code",
      "execution_count": 1,
      "metadata": {
        "colab": {
          "base_uri": "https://localhost:8080/"
        },
        "id": "g_bI-DeB3OZo",
        "outputId": "ec6d30b5-eb3f-4ca7-8be8-17f3e70316c0"
      },
      "outputs": [
        {
          "output_type": "stream",
          "name": "stdout",
          "text": [
            "Requirement already satisfied: xgboost in /usr/local/lib/python3.11/dist-packages (3.0.2)\n",
            "Requirement already satisfied: numpy in /usr/local/lib/python3.11/dist-packages (from xgboost) (2.0.2)\n",
            "Requirement already satisfied: nvidia-nccl-cu12 in /usr/local/lib/python3.11/dist-packages (from xgboost) (2.21.5)\n",
            "Requirement already satisfied: scipy in /usr/local/lib/python3.11/dist-packages (from xgboost) (1.16.0)\n"
          ]
        }
      ],
      "source": [
        "!pip install xgboost\n",
        "\n",
        "import pandas as pd\n",
        "import xgboost as xgb\n",
        "from sklearn.metrics import mean_squared_error, mean_absolute_error, r2_score\n",
        "from sklearn.model_selection import train_test_split\n",
        "from sklearn.preprocessing import OneHotEncoder\n",
        "from sklearn.compose import ColumnTransformer\n",
        "from sklearn.pipeline import Pipeline"
      ]
    },
    {
      "cell_type": "markdown",
      "source": [
        "#2. Mount Google Drive"
      ],
      "metadata": {
        "id": "uPS1jMN299ru"
      }
    },
    {
      "cell_type": "code",
      "source": [
        "from google.colab import drive\n",
        "drive.mount('/content/drive')"
      ],
      "metadata": {
        "id": "E60PlUsz-Ak7"
      },
      "execution_count": null,
      "outputs": []
    },
    {
      "cell_type": "markdown",
      "source": [
        "#3. Load the Data"
      ],
      "metadata": {
        "id": "PYaqcPPI9wPS"
      }
    },
    {
      "cell_type": "code",
      "source": [
        "train_path='/content/drive/MyDrive/VERGER/Revenue_Forecasting/train_forecast_data.csv'\n",
        "test_path='/content/drive/MyDrive/VERGER/Revenue_Forecasting/test_forecast_data.csv'\n",
        "\n",
        "traib_df=pd.read_csv(train_path)\n",
        "test_df=pd.read_csv(test_path)"
      ],
      "metadata": {
        "id": "O7A31Jgz9zvs"
      },
      "execution_count": null,
      "outputs": []
    },
    {
      "cell_type": "markdown",
      "source": [
        "#4. Select Features and Target"
      ],
      "metadata": {
        "id": "RSoSU_7UCG0Q"
      }
    },
    {
      "cell_type": "code",
      "source": [
        "features = ['Account', 'Product', 'Type',\n",
        "            'Lag_Qty_1', 'Lag_Qty_2', 'Lag_Rev_1', 'Lag_Rev_2',\n",
        "            'Rolling_Qty_3', 'Rolling_Rev_3']\n",
        "\n",
        "target = 'Forecast_Revenue'\n",
        "\n",
        "# Drop rows with missing values\n",
        "train_df = train_df.dropna(subset=features + [target])\n",
        "test_df = test_df.dropna(subset=features + [target])\n",
        "\n",
        "X_train = train_df[features]\n",
        "y_train = train_df[target]\n",
        "X_test = test_df[features]\n",
        "y_test = test_df[target]\n"
      ],
      "metadata": {
        "id": "fGGAe38uMe43"
      },
      "execution_count": null,
      "outputs": []
    },
    {
      "cell_type": "markdown",
      "source": [
        "#5. Setup Preprocessing Pipeline"
      ],
      "metadata": {
        "id": "25xpi-S2MhBI"
      }
    },
    {
      "cell_type": "code",
      "source": [
        "categorical_features = ['Account', 'Product', 'Type']\n",
        "categorical_transformer = OneHotEncoder(handle_unknown='ignore')\n",
        "\n",
        "preprocessor = ColumnTransformer(\n",
        "    transformers=[('cat', categorical_transformer, categorical_features)],\n",
        "    remainder='passthrough'\n",
        ")"
      ],
      "metadata": {
        "id": "rjaTCn9mM6MM"
      },
      "execution_count": null,
      "outputs": []
    },
    {
      "cell_type": "markdown",
      "source": [
        "#6. Create XGBoost Pipeline"
      ],
      "metadata": {
        "id": "bjQcP3l1NDxM"
      }
    },
    {
      "cell_type": "code",
      "source": [
        "from xgboost import XGBRegressor\n",
        "\n",
        "xgb_model = Pipeline(steps=[\n",
        "    ('preprocessor', preprocessor),\n",
        "    ('regressor', XGBRegressor(\n",
        "        objective='reg:squarederror',\n",
        "        n_estimators=100,\n",
        "        learning_rate=0.1,\n",
        "        max_depth=6,\n",
        "        random_state=42\n",
        "    ))\n",
        "])"
      ],
      "metadata": {
        "id": "GSD6fxs5NHyA"
      },
      "execution_count": null,
      "outputs": []
    },
    {
      "cell_type": "markdown",
      "source": [
        "#7. train the Model"
      ],
      "metadata": {
        "id": "6FGlVp7CNQir"
      }
    },
    {
      "cell_type": "code",
      "source": [
        "xgb_model.fit(X_train, y_train)"
      ],
      "metadata": {
        "id": "MdmCofGMNS1G"
      },
      "execution_count": null,
      "outputs": []
    },
    {
      "cell_type": "markdown",
      "source": [
        "#8. Evaluate the Model"
      ],
      "metadata": {
        "id": "wUujvbJXNaMy"
      }
    },
    {
      "cell_type": "code",
      "source": [
        "y_pred = xgb_model.predict(X_test)\n",
        "\n",
        "rmse = mean_squared_error(y_test, y_pred, squared=False)\n",
        "mae = mean_absolute_error(y_test, y_pred)\n",
        "r2 = r2_score(y_test, y_pred)\n",
        "\n",
        "print(\"\\n📊 XGBoost Revenue Forecasting Results:\")\n",
        "print(f\"  RMSE: {rmse:.2f}\")\n",
        "print(f\"  MAE : {mae:.2f}\")\n",
        "print(f\"  R²  : {r2:.4f}\")"
      ],
      "metadata": {
        "id": "l_tPIXcSNfCt"
      },
      "execution_count": null,
      "outputs": []
    }
  ]
}